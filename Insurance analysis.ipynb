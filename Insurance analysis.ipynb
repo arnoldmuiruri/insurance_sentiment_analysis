{
 "cells": [
  {
   "cell_type": "code",
   "execution_count": 9,
   "metadata": {},
   "outputs": [],
   "source": [
    "import pandas as pd\n",
    "import snscrape.modules.twitter as sntwitter\n",
    "import re\n",
    "import nltk\n",
    "from nltk.corpus import stopwords\n",
    "from nltk.stem import WordNetLemmatizer\n",
    "from nltk.tokenize import TweetTokenizer"
   ]
  },
  {
   "cell_type": "code",
   "execution_count": 11,
   "outputs": [
    {
     "name": "stderr",
     "output_type": "stream",
     "text": [
      "[nltk_data] Downloading package stopwords to /home/arnold/nltk_data...\n",
      "[nltk_data]   Package stopwords is already up-to-date!\n",
      "[nltk_data] Downloading package wordnet to /home/arnold/nltk_data...\n",
      "[nltk_data]   Package wordnet is already up-to-date!\n",
      "[nltk_data] Downloading package omw-1.4 to /home/arnold/nltk_data...\n"
     ]
    },
    {
     "data": {
      "text/plain": "True"
     },
     "execution_count": 11,
     "metadata": {},
     "output_type": "execute_result"
    }
   ],
   "source": [
    "nltk.download('stopwords')\n",
    "nltk.download('wordnet')\n",
    "nltk.download('omw-1.4')"
   ],
   "metadata": {
    "collapsed": false
   }
  },
  {
   "cell_type": "code",
   "execution_count": 3,
   "metadata": {},
   "outputs": [],
   "source": [
    "query = \"(insurance OR insured OR insurer OR underwriter OR insure) -is:retweet near:Nairobi within:30km lang:en since:2020-01-01 until:2022-12-31\"\n",
    "tweets_list = []"
   ]
  },
  {
   "cell_type": "code",
   "execution_count": 4,
   "metadata": {},
   "outputs": [],
   "source": [
    "for i,tweet in enumerate(sntwitter.TwitterSearchScraper(query).get_items()):\n",
    "   tweets_list.append([tweet.date, tweet.id, tweet.rawContent, tweet.user.username])"
   ]
  },
  {
   "cell_type": "code",
   "execution_count": 5,
   "metadata": {},
   "outputs": [
    {
     "data": {
      "text/plain": "Date        2860\nId          2860\nContent     2860\nUsername    2860\ndtype: int64"
     },
     "execution_count": 5,
     "metadata": {},
     "output_type": "execute_result"
    }
   ],
   "source": [
    "insurance_list = pd.DataFrame(tweets_list,columns =[\"Date\",\"Id\",\"Content\",\"Username\"])\n",
    "insurance_list.count()"
   ]
  },
  {
   "cell_type": "code",
   "execution_count": 6,
   "metadata": {},
   "outputs": [
    {
     "data": {
      "text/plain": "                          Date                   Id  \\\n2859 2020-01-02 17:30:13+00:00  1212788197161406469   \n2858 2020-01-02 19:54:08+00:00  1212824415848804356   \n2857 2020-01-02 20:23:28+00:00  1212831799052771328   \n2856 2020-01-03 11:18:51+00:00  1213057126802870273   \n2855 2020-01-04 07:51:29+00:00  1213367330010488838   \n\n                                                Content      Username  \n2859  @MarvinGakunyi It has alot of humility in it, ...   dougladjuma  \n2858  HEALTHCARE FINANCING, @nhifkenya, ENHANCED NHI...  simonkigondu  \n2857  This Cancer Insurance Cover by @icealion is wh...   drthuranira  \n2856  @AutoxpressKenya to the rescue ⚒️ 🚗 after Tyre...   PhilipOgola  \n2855  I know this may seem mean but I’m finding it R...    Sheilakari  ",
      "text/html": "<div>\n<style scoped>\n    .dataframe tbody tr th:only-of-type {\n        vertical-align: middle;\n    }\n\n    .dataframe tbody tr th {\n        vertical-align: top;\n    }\n\n    .dataframe thead th {\n        text-align: right;\n    }\n</style>\n<table border=\"1\" class=\"dataframe\">\n  <thead>\n    <tr style=\"text-align: right;\">\n      <th></th>\n      <th>Date</th>\n      <th>Id</th>\n      <th>Content</th>\n      <th>Username</th>\n    </tr>\n  </thead>\n  <tbody>\n    <tr>\n      <th>2859</th>\n      <td>2020-01-02 17:30:13+00:00</td>\n      <td>1212788197161406469</td>\n      <td>@MarvinGakunyi It has alot of humility in it, ...</td>\n      <td>dougladjuma</td>\n    </tr>\n    <tr>\n      <th>2858</th>\n      <td>2020-01-02 19:54:08+00:00</td>\n      <td>1212824415848804356</td>\n      <td>HEALTHCARE FINANCING, @nhifkenya, ENHANCED NHI...</td>\n      <td>simonkigondu</td>\n    </tr>\n    <tr>\n      <th>2857</th>\n      <td>2020-01-02 20:23:28+00:00</td>\n      <td>1212831799052771328</td>\n      <td>This Cancer Insurance Cover by @icealion is wh...</td>\n      <td>drthuranira</td>\n    </tr>\n    <tr>\n      <th>2856</th>\n      <td>2020-01-03 11:18:51+00:00</td>\n      <td>1213057126802870273</td>\n      <td>@AutoxpressKenya to the rescue ⚒️ 🚗 after Tyre...</td>\n      <td>PhilipOgola</td>\n    </tr>\n    <tr>\n      <th>2855</th>\n      <td>2020-01-04 07:51:29+00:00</td>\n      <td>1213367330010488838</td>\n      <td>I know this may seem mean but I’m finding it R...</td>\n      <td>Sheilakari</td>\n    </tr>\n  </tbody>\n</table>\n</div>"
     },
     "execution_count": 6,
     "metadata": {},
     "output_type": "execute_result"
    }
   ],
   "source": [
    "insurance_list[\"Date\"] = pd.to_datetime(insurance_list[\"Date\"])\n",
    "insurance_list.sort_values(by=\"Date\",ascending=True,inplace=True)\n",
    "insurance_list.head()"
   ]
  },
  {
   "cell_type": "code",
   "execution_count": 14,
   "metadata": {},
   "outputs": [
    {
     "data": {
      "text/plain": "2859    [marvingakunyi, alot, humility, hope, insuranc...\n2858    [healthcare, financing, nhifkenya, enhanced, n...\n2857    [cancer, insurance, cover, icealion, call, dis...\n2856    [autoxpresskenya, rescue, tyre, burst, tyre, i...\n2855    [know, may, seem, mean, im, finding, really, h...\nName: Content, dtype: object"
     },
     "execution_count": 14,
     "metadata": {},
     "output_type": "execute_result"
    }
   ],
   "source": [
    "#Tweets preprocessing\n",
    "insurance_list = insurance_list.dropna()\n",
    "insurance_list = insurance_list.drop_duplicates()\n",
    "\n",
    "#removing urls\n",
    "cleaned_content = insurance_list['Content'].apply(lambda x:re.sub(r'https?:\\/\\/.*[\\r\\n]*','',x))\n",
    "\n",
    "#extracting hashtags\n",
    "hashtags = cleaned_content.apply(lambda x: re.findall(r\"#(\\w+)\",x))\n",
    "\n",
    "#Inserting space after period\n",
    "cleaned_content = cleaned_content.apply(lambda x: re.sub(r'([a-z])\\.([A-Z])', r'\\1. \\2', x))\n",
    "\n",
    "#removing punctuation and whitespaces\n",
    "cleaned_content = cleaned_content.apply(lambda x: re.sub(r'\\n\\s\\s+','',x)).apply(lambda x: re.sub(r'[^\\w\\s]','',x))\n",
    "\n",
    "#Tokenizing tweets\n",
    "tokenizer = TweetTokenizer(preserve_case=False,strip_handles=True,reduce_len=True)\n",
    "cleaned_content = cleaned_content.apply(lambda x : tokenizer.tokenize(x))\n",
    "\n",
    "#Removing stopwords\n",
    "stopwords_en = stopwords.words(\"english\")\n",
    "\n",
    "cleaned_content = cleaned_content.apply(lambda words: [item for item in words if item not in stopwords_en])\n",
    "\n",
    "#Lemmatizing the content\n",
    "wlm = WordNetLemmatizer()\n",
    "cleaned_content = cleaned_content.apply(lambda x: [wlm.lemmatize(word) for word in x ])\n",
    "cleaned_content.head()"
   ]
  },
  {
   "cell_type": "code",
   "execution_count": 15,
   "metadata": {},
   "outputs": [],
   "source": [
    "insurance_list['Cleaned Content'] = cleaned_content\n",
    "insurance_list['Hashtags'] = hashtags"
   ]
  },
  {
   "cell_type": "code",
   "execution_count": 17,
   "metadata": {},
   "outputs": [
    {
     "data": {
      "text/plain": "                          Date                   Id  \\\n2859 2020-01-02 17:30:13+00:00  1212788197161406469   \n2858 2020-01-02 19:54:08+00:00  1212824415848804356   \n2857 2020-01-02 20:23:28+00:00  1212831799052771328   \n2856 2020-01-03 11:18:51+00:00  1213057126802870273   \n2855 2020-01-04 07:51:29+00:00  1213367330010488838   \n\n                                                Content      Username  \\\n2859  @MarvinGakunyi It has alot of humility in it, ...   dougladjuma   \n2858  HEALTHCARE FINANCING, @nhifkenya, ENHANCED NHI...  simonkigondu   \n2857  This Cancer Insurance Cover by @icealion is wh...   drthuranira   \n2856  @AutoxpressKenya to the rescue ⚒️ 🚗 after Tyre...   PhilipOgola   \n2855  I know this may seem mean but I’m finding it R...    Sheilakari   \n\n                                        Cleaned Content  \\\n2859  [marvingakunyi, alot, humility, hope, insuranc...   \n2858  [healthcare, financing, nhifkenya, enhanced, n...   \n2857  [cancer, insurance, cover, icealion, call, dis...   \n2856  [autoxpresskenya, rescue, tyre, burst, tyre, i...   \n2855  [know, may, seem, mean, im, finding, really, h...   \n\n                                             Hashtags  \n2859                                               []  \n2858                                            [UHC]  \n2857                                               []  \n2856  [SocialGood, DigitalHumanitarian, ItCouldBeYou]  \n2855                                               []  ",
      "text/html": "<div>\n<style scoped>\n    .dataframe tbody tr th:only-of-type {\n        vertical-align: middle;\n    }\n\n    .dataframe tbody tr th {\n        vertical-align: top;\n    }\n\n    .dataframe thead th {\n        text-align: right;\n    }\n</style>\n<table border=\"1\" class=\"dataframe\">\n  <thead>\n    <tr style=\"text-align: right;\">\n      <th></th>\n      <th>Date</th>\n      <th>Id</th>\n      <th>Content</th>\n      <th>Username</th>\n      <th>Cleaned Content</th>\n      <th>Hashtags</th>\n    </tr>\n  </thead>\n  <tbody>\n    <tr>\n      <th>2859</th>\n      <td>2020-01-02 17:30:13+00:00</td>\n      <td>1212788197161406469</td>\n      <td>@MarvinGakunyi It has alot of humility in it, ...</td>\n      <td>dougladjuma</td>\n      <td>[marvingakunyi, alot, humility, hope, insuranc...</td>\n      <td>[]</td>\n    </tr>\n    <tr>\n      <th>2858</th>\n      <td>2020-01-02 19:54:08+00:00</td>\n      <td>1212824415848804356</td>\n      <td>HEALTHCARE FINANCING, @nhifkenya, ENHANCED NHI...</td>\n      <td>simonkigondu</td>\n      <td>[healthcare, financing, nhifkenya, enhanced, n...</td>\n      <td>[UHC]</td>\n    </tr>\n    <tr>\n      <th>2857</th>\n      <td>2020-01-02 20:23:28+00:00</td>\n      <td>1212831799052771328</td>\n      <td>This Cancer Insurance Cover by @icealion is wh...</td>\n      <td>drthuranira</td>\n      <td>[cancer, insurance, cover, icealion, call, dis...</td>\n      <td>[]</td>\n    </tr>\n    <tr>\n      <th>2856</th>\n      <td>2020-01-03 11:18:51+00:00</td>\n      <td>1213057126802870273</td>\n      <td>@AutoxpressKenya to the rescue ⚒️ 🚗 after Tyre...</td>\n      <td>PhilipOgola</td>\n      <td>[autoxpresskenya, rescue, tyre, burst, tyre, i...</td>\n      <td>[SocialGood, DigitalHumanitarian, ItCouldBeYou]</td>\n    </tr>\n    <tr>\n      <th>2855</th>\n      <td>2020-01-04 07:51:29+00:00</td>\n      <td>1213367330010488838</td>\n      <td>I know this may seem mean but I’m finding it R...</td>\n      <td>Sheilakari</td>\n      <td>[know, may, seem, mean, im, finding, really, h...</td>\n      <td>[]</td>\n    </tr>\n  </tbody>\n</table>\n</div>"
     },
     "execution_count": 17,
     "metadata": {},
     "output_type": "execute_result"
    }
   ],
   "source": [
    "insurance_list.head()"
   ]
  }
 ],
 "metadata": {
  "kernelspec": {
   "display_name": "Python 3 (ipykernel)",
   "language": "python",
   "name": "python3"
  },
  "language_info": {
   "codemirror_mode": {
    "name": "ipython",
    "version": 3
   },
   "file_extension": ".py",
   "mimetype": "text/x-python",
   "name": "python",
   "nbconvert_exporter": "python",
   "pygments_lexer": "ipython3",
   "version": "3.8.8"
  }
 },
 "nbformat": 4,
 "nbformat_minor": 1
}
